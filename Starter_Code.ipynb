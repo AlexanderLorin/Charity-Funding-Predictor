{
 "cells": [
  {
   "cell_type": "markdown",
   "metadata": {},
   "source": [
    "## Preprocessing"
   ]
  },
  {
   "cell_type": "code",
   "execution_count": 1,
   "metadata": {
    "scrolled": false
   },
   "outputs": [],
   "source": [
    "# Import our dependencies\n",
    "from sklearn.model_selection import train_test_split\n",
    "from sklearn.preprocessing import StandardScaler\n",
    "import pandas as pd\n",
    "import tensorflow as tf\n",
    "\n",
    "#  Import and read the charity_data.csv.\n",
    "import pandas as pd \n",
    "application_df = pd.read_csv(\"../Resources/charity_data.csv\")\n",
    "application_df.head()"
   ]
  },
  {
   "cell_type": "code",
   "execution_count": 1,
   "metadata": {},
   "outputs": [
    {
     "ename": "NameError",
     "evalue": "name 'application_df' is not defined",
     "output_type": "error",
     "traceback": [
      "\u001b[0;31m---------------------------------------------------------------------------\u001b[0m",
      "\u001b[0;31mNameError\u001b[0m                                 Traceback (most recent call last)",
      "\u001b[1;32m/Users/alexanderlorin/code/Charity-Funding-Predictor/Starter_Code.ipynb Cell 2'\u001b[0m in \u001b[0;36m<module>\u001b[0;34m\u001b[0m\n\u001b[1;32m      <a href='vscode-notebook-cell:/Users/alexanderlorin/code/Charity-Funding-Predictor/Starter_Code.ipynb#ch0000001?line=0'>1</a>\u001b[0m \u001b[39m# Drop the non-beneficial ID columns, 'EIN' and 'NAME'.\u001b[39;00m\n\u001b[1;32m      <a href='vscode-notebook-cell:/Users/alexanderlorin/code/Charity-Funding-Predictor/Starter_Code.ipynb#ch0000001?line=1'>2</a>\u001b[0m \u001b[39m#  YOUR CODE GOES HERE\u001b[39;00m\n\u001b[0;32m----> <a href='vscode-notebook-cell:/Users/alexanderlorin/code/Charity-Funding-Predictor/Starter_Code.ipynb#ch0000001?line=2'>3</a>\u001b[0m new_df \u001b[39m=\u001b[39m application_df\u001b[39m.\u001b[39mdrop(\u001b[39m'\u001b[39m\u001b[39mEIN\u001b[39m\u001b[39m'\u001b[39m, axis\u001b[39m=\u001b[39m\u001b[39m1\u001b[39m)\n\u001b[1;32m      <a href='vscode-notebook-cell:/Users/alexanderlorin/code/Charity-Funding-Predictor/Starter_Code.ipynb#ch0000001?line=3'>4</a>\u001b[0m new_df2 \u001b[39m=\u001b[39m new_df\u001b[39m.\u001b[39mdrop(\u001b[39m'\u001b[39m\u001b[39mNAME\u001b[39m\u001b[39m'\u001b[39m, axis\u001b[39m=\u001b[39m\u001b[39m1\u001b[39m)\n\u001b[1;32m      <a href='vscode-notebook-cell:/Users/alexanderlorin/code/Charity-Funding-Predictor/Starter_Code.ipynb#ch0000001?line=4'>5</a>\u001b[0m new_df2\n",
      "\u001b[0;31mNameError\u001b[0m: name 'application_df' is not defined"
     ]
    }
   ],
   "source": [
    "# Drop the non-beneficial ID columns, 'EIN' and 'NAME'.\n",
    "#  YOUR CODE GOES HERE\n",
    "new_df = application_df.drop('EIN', axis=1)\n",
    "new_df2 = new_df.drop('NAME', axis=1)\n",
    "new_df2"
   ]
  },
  {
   "cell_type": "code",
   "execution_count": 2,
   "metadata": {},
   "outputs": [
    {
     "ename": "NameError",
     "evalue": "name 'new_df2' is not defined",
     "output_type": "error",
     "traceback": [
      "\u001b[0;31m---------------------------------------------------------------------------\u001b[0m",
      "\u001b[0;31mNameError\u001b[0m                                 Traceback (most recent call last)",
      "\u001b[1;32m/Users/alexanderlorin/code/Charity-Funding-Predictor/Starter_Code.ipynb Cell 3'\u001b[0m in \u001b[0;36m<module>\u001b[0;34m\u001b[0m\n\u001b[1;32m      <a href='vscode-notebook-cell:/Users/alexanderlorin/code/Charity-Funding-Predictor/Starter_Code.ipynb#ch0000002?line=0'>1</a>\u001b[0m \u001b[39m# Determine the number of unique values in each column.\u001b[39;00m\n\u001b[1;32m      <a href='vscode-notebook-cell:/Users/alexanderlorin/code/Charity-Funding-Predictor/Starter_Code.ipynb#ch0000002?line=1'>2</a>\u001b[0m \u001b[39m#  YOUR CODE GOES HERE\u001b[39;00m\n\u001b[0;32m----> <a href='vscode-notebook-cell:/Users/alexanderlorin/code/Charity-Funding-Predictor/Starter_Code.ipynb#ch0000002?line=2'>3</a>\u001b[0m new_df2\u001b[39m.\u001b[39mnunique()\n",
      "\u001b[0;31mNameError\u001b[0m: name 'new_df2' is not defined"
     ]
    }
   ],
   "source": [
    "# Determine the number of unique values in each column.\n",
    "#  YOUR CODE GOES HERE\n",
    "new_df2.nunique()"
   ]
  },
  {
   "cell_type": "code",
   "execution_count": null,
   "metadata": {},
   "outputs": [],
   "source": [
    "# Look at APPLICATION_TYPE value counts for binning\n",
    "#  YOUR CODE GOES HERE\n",
    "application_count = new_df2['APPLICATION_TYPE'].value_counts()\n",
    "application_count"
   ]
  },
  {
   "cell_type": "code",
   "execution_count": 3,
   "metadata": {},
   "outputs": [
    {
     "ename": "NameError",
     "evalue": "name 'application_count' is not defined",
     "output_type": "error",
     "traceback": [
      "\u001b[0;31m---------------------------------------------------------------------------\u001b[0m",
      "\u001b[0;31mNameError\u001b[0m                                 Traceback (most recent call last)",
      "\u001b[1;32m/Users/alexanderlorin/code/Charity-Funding-Predictor/Starter_Code.ipynb Cell 4'\u001b[0m in \u001b[0;36m<module>\u001b[0;34m\u001b[0m\n\u001b[1;32m      <a href='vscode-notebook-cell:/Users/alexanderlorin/code/Charity-Funding-Predictor/Starter_Code.ipynb#ch0000003?line=0'>1</a>\u001b[0m \u001b[39m# Choose a cutoff value and create a list of application types to be replaced\u001b[39;00m\n\u001b[1;32m      <a href='vscode-notebook-cell:/Users/alexanderlorin/code/Charity-Funding-Predictor/Starter_Code.ipynb#ch0000003?line=1'>2</a>\u001b[0m \u001b[39m# use the variable name `application_types_to_replace`\u001b[39;00m\n\u001b[1;32m      <a href='vscode-notebook-cell:/Users/alexanderlorin/code/Charity-Funding-Predictor/Starter_Code.ipynb#ch0000003?line=2'>3</a>\u001b[0m \u001b[39m#  YOUR CODE GOES HERE\u001b[39;00m\n\u001b[0;32m----> <a href='vscode-notebook-cell:/Users/alexanderlorin/code/Charity-Funding-Predictor/Starter_Code.ipynb#ch0000003?line=3'>4</a>\u001b[0m application_types_to_replace \u001b[39m=\u001b[39m \u001b[39mlist\u001b[39m(application_count\u001b[39m.\u001b[39mloc[application_count \u001b[39m<\u001b[39m \u001b[39m500\u001b[39m]\u001b[39m.\u001b[39mindex)\n\u001b[1;32m      <a href='vscode-notebook-cell:/Users/alexanderlorin/code/Charity-Funding-Predictor/Starter_Code.ipynb#ch0000003?line=4'>5</a>\u001b[0m \u001b[39m# Replace in dataframe\u001b[39;00m\n\u001b[1;32m      <a href='vscode-notebook-cell:/Users/alexanderlorin/code/Charity-Funding-Predictor/Starter_Code.ipynb#ch0000003?line=5'>6</a>\u001b[0m \u001b[39mfor\u001b[39;00m app \u001b[39min\u001b[39;00m application_types_to_replace:\n",
      "\u001b[0;31mNameError\u001b[0m: name 'application_count' is not defined"
     ]
    }
   ],
   "source": [
    "# Choose a cutoff value and create a list of application types to be replaced\n",
    "# use the variable name `application_types_to_replace`\n",
    "#  YOUR CODE GOES HERE\n",
    "application_types_to_replace = list(application_count.loc[application_count < 500].index)\n",
    "# Replace in dataframe\n",
    "for app in application_types_to_replace:\n",
    "    new_df2['APPLICATION_TYPE'] = new_df2['APPLICATION_TYPE'].replace(app,\"Other\")\n",
    "\n",
    "# Check to make sure binning was successful\n",
    "new_df2['APPLICATION_TYPE'].value_counts()"
   ]
  },
  {
   "cell_type": "code",
   "execution_count": 4,
   "metadata": {},
   "outputs": [
    {
     "ename": "NameError",
     "evalue": "name 'new_df2' is not defined",
     "output_type": "error",
     "traceback": [
      "\u001b[0;31m---------------------------------------------------------------------------\u001b[0m",
      "\u001b[0;31mNameError\u001b[0m                                 Traceback (most recent call last)",
      "\u001b[1;32m/Users/alexanderlorin/code/Charity-Funding-Predictor/Starter_Code.ipynb Cell 6'\u001b[0m in \u001b[0;36m<module>\u001b[0;34m\u001b[0m\n\u001b[1;32m      <a href='vscode-notebook-cell:/Users/alexanderlorin/code/Charity-Funding-Predictor/Starter_Code.ipynb#ch0000005?line=0'>1</a>\u001b[0m \u001b[39m# Look at CLASSIFICATION value counts for binning\u001b[39;00m\n\u001b[1;32m      <a href='vscode-notebook-cell:/Users/alexanderlorin/code/Charity-Funding-Predictor/Starter_Code.ipynb#ch0000005?line=1'>2</a>\u001b[0m \u001b[39m#  YOUR CODE GOES HERE\u001b[39;00m\n\u001b[0;32m----> <a href='vscode-notebook-cell:/Users/alexanderlorin/code/Charity-Funding-Predictor/Starter_Code.ipynb#ch0000005?line=2'>3</a>\u001b[0m classification_count \u001b[39m=\u001b[39m new_df2[\u001b[39m'\u001b[39m\u001b[39mCLASSIFICATION\u001b[39m\u001b[39m'\u001b[39m]\u001b[39m.\u001b[39mvalue_counts()\n\u001b[1;32m      <a href='vscode-notebook-cell:/Users/alexanderlorin/code/Charity-Funding-Predictor/Starter_Code.ipynb#ch0000005?line=3'>4</a>\u001b[0m classification_count\n",
      "\u001b[0;31mNameError\u001b[0m: name 'new_df2' is not defined"
     ]
    }
   ],
   "source": [
    "# Look at CLASSIFICATION value counts for binning\n",
    "#  YOUR CODE GOES HERE\n",
    "classification_count = new_df2['CLASSIFICATION'].value_counts()\n",
    "classification_count"
   ]
  },
  {
   "cell_type": "code",
   "execution_count": 5,
   "metadata": {},
   "outputs": [
    {
     "ename": "NameError",
     "evalue": "name 'classification_count' is not defined",
     "output_type": "error",
     "traceback": [
      "\u001b[0;31m---------------------------------------------------------------------------\u001b[0m",
      "\u001b[0;31mNameError\u001b[0m                                 Traceback (most recent call last)",
      "\u001b[1;32m/Users/alexanderlorin/code/Charity-Funding-Predictor/Starter_Code.ipynb Cell 7'\u001b[0m in \u001b[0;36m<module>\u001b[0;34m\u001b[0m\n\u001b[1;32m      <a href='vscode-notebook-cell:/Users/alexanderlorin/code/Charity-Funding-Predictor/Starter_Code.ipynb#ch0000006?line=0'>1</a>\u001b[0m \u001b[39m# You may find it helpful to look at CLASSIFICATION value counts >1\u001b[39;00m\n\u001b[1;32m      <a href='vscode-notebook-cell:/Users/alexanderlorin/code/Charity-Funding-Predictor/Starter_Code.ipynb#ch0000006?line=1'>2</a>\u001b[0m \u001b[39m#  YOUR CODE GOES HERE\u001b[39;00m\n\u001b[0;32m----> <a href='vscode-notebook-cell:/Users/alexanderlorin/code/Charity-Funding-Predictor/Starter_Code.ipynb#ch0000006?line=2'>3</a>\u001b[0m classification_count\u001b[39m.\u001b[39mloc[classification_count \u001b[39m>\u001b[39m \u001b[39m1\u001b[39m]\n",
      "\u001b[0;31mNameError\u001b[0m: name 'classification_count' is not defined"
     ]
    }
   ],
   "source": [
    "# You may find it helpful to look at CLASSIFICATION value counts >1\n",
    "#  YOUR CODE GOES HERE\n",
    "classification_count.loc[classification_count > 1]"
   ]
  },
  {
   "cell_type": "code",
   "execution_count": 6,
   "metadata": {},
   "outputs": [
    {
     "ename": "NameError",
     "evalue": "name 'classification_count' is not defined",
     "output_type": "error",
     "traceback": [
      "\u001b[0;31m---------------------------------------------------------------------------\u001b[0m",
      "\u001b[0;31mNameError\u001b[0m                                 Traceback (most recent call last)",
      "\u001b[1;32m/Users/alexanderlorin/code/Charity-Funding-Predictor/Starter_Code.ipynb Cell 8'\u001b[0m in \u001b[0;36m<module>\u001b[0;34m\u001b[0m\n\u001b[1;32m      <a href='vscode-notebook-cell:/Users/alexanderlorin/code/Charity-Funding-Predictor/Starter_Code.ipynb#ch0000007?line=0'>1</a>\u001b[0m \u001b[39m# Choose a cutoff value and create a list of classifications to be replaced\u001b[39;00m\n\u001b[1;32m      <a href='vscode-notebook-cell:/Users/alexanderlorin/code/Charity-Funding-Predictor/Starter_Code.ipynb#ch0000007?line=1'>2</a>\u001b[0m \u001b[39m# use the variable name `classifications_to_replace`\u001b[39;00m\n\u001b[1;32m      <a href='vscode-notebook-cell:/Users/alexanderlorin/code/Charity-Funding-Predictor/Starter_Code.ipynb#ch0000007?line=2'>3</a>\u001b[0m \u001b[39m#  YOUR CODE GOES HERE\u001b[39;00m\n\u001b[0;32m----> <a href='vscode-notebook-cell:/Users/alexanderlorin/code/Charity-Funding-Predictor/Starter_Code.ipynb#ch0000007?line=3'>4</a>\u001b[0m classifications_to_replace \u001b[39m=\u001b[39m \u001b[39mlist\u001b[39m(classification_count\u001b[39m.\u001b[39mloc[classification_count \u001b[39m<\u001b[39m \u001b[39m1000\u001b[39m]\u001b[39m.\u001b[39mindex)\n\u001b[1;32m      <a href='vscode-notebook-cell:/Users/alexanderlorin/code/Charity-Funding-Predictor/Starter_Code.ipynb#ch0000007?line=4'>5</a>\u001b[0m \u001b[39m# Replace in dataframe\u001b[39;00m\n\u001b[1;32m      <a href='vscode-notebook-cell:/Users/alexanderlorin/code/Charity-Funding-Predictor/Starter_Code.ipynb#ch0000007?line=5'>6</a>\u001b[0m \u001b[39mfor\u001b[39;00m \u001b[39mcls\u001b[39m \u001b[39min\u001b[39;00m classifications_to_replace:\n",
      "\u001b[0;31mNameError\u001b[0m: name 'classification_count' is not defined"
     ]
    }
   ],
   "source": [
    "# Choose a cutoff value and create a list of classifications to be replaced\n",
    "# use the variable name `classifications_to_replace`\n",
    "#  YOUR CODE GOES HERE\n",
    "classifications_to_replace = list(classification_count.loc[classification_count < 1000].index)\n",
    "# Replace in dataframe\n",
    "for cls in classifications_to_replace:\n",
    "    new_df2['CLASSIFICATION'] = new_df2['CLASSIFICATION'].replace(cls,\"Other\")\n",
    "    \n",
    "# Check to make sure binning was successful\n",
    "new_df2['CLASSIFICATION'].value_counts()"
   ]
  },
  {
   "cell_type": "code",
   "execution_count": null,
   "metadata": {},
   "outputs": [],
   "source": [
    "# Convert categorical data to numeric with `pd.get_dummies`\n",
    "#  YOUR CODE GOES HERE\n",
    "df_dummies = pd.get_dummies(new_df2)\n",
    "df_dummies"
   ]
  },
  {
   "cell_type": "code",
   "execution_count": null,
   "metadata": {},
   "outputs": [],
   "source": [
    "# Split our preprocessed data into our features and target arrays\n",
    "#  YOUR CODE GOES HERE\n",
    "X = df_dummies.drop('IS_SUCCESSFUL', axis=1)\n",
    "y = df_dummies['IS_SUCCESSFUL']\n",
    "# Split the preprocessed data into a training and testing dataset\n",
    "#  YOUR CODE GOES HERE\n",
    "X_train, X_test, y_train, y_test = train_test_split(X, y, random_state=78)"
   ]
  },
  {
   "cell_type": "code",
   "execution_count": null,
   "metadata": {},
   "outputs": [],
   "source": [
    "# Create a StandardScaler instances\n",
    "scaler = StandardScaler()\n",
    "\n",
    "# Fit the StandardScaler\n",
    "X_scaler = scaler.fit(X_train)\n",
    "\n",
    "# Scale the data\n",
    "X_train_scaled = X_scaler.transform(X_train)\n",
    "X_test_scaled = X_scaler.transform(X_test)"
   ]
  },
  {
   "cell_type": "markdown",
   "metadata": {},
   "source": [
    "## Compile, Train and Evaluate the Model"
   ]
  },
  {
   "cell_type": "code",
   "execution_count": null,
   "metadata": {},
   "outputs": [],
   "source": [
    "# Define the model - deep neural net, i.e., the number of input features and hidden nodes for each layer.\n",
    "#  YOUR CODE GOES HERE\n",
    "\n",
    "nn_model = tf.keras.models.Sequential()\n",
    "\n",
    "# First hidden layer\n",
    "#  YOUR CODE GOES HERE\n",
    "nn_model.add(tf.keras.layers.Dense(units=5, activation=\"relu\", input_dim=43))\n",
    "\n",
    "# Second hidden layer\n",
    "#  YOUR CODE GOES HERE\n",
    "nn_model.add(tf.keras.layers.Dense(units=3, activation=\"sigmoid\", input_dim=20))\n",
    "# Output layer\n",
    "#  YOUR CODE GOES HERE\n",
    "nn_model.add(tf.keras.layers.Dense(units=1, activation=\"sigmoid\"))\n",
    "\n",
    "# Check the structure of the model\n",
    "nn_model.summary()"
   ]
  },
  {
   "cell_type": "code",
   "execution_count": null,
   "metadata": {},
   "outputs": [],
   "source": [
    "# Compile the model\n",
    "#  YOUR CODE GOES HERE\n",
    "nn_model.compile(loss=\"binary_crossentropy\", optimizer=\"adam\", metrics=[\"accuracy\"])"
   ]
  },
  {
   "cell_type": "code",
   "execution_count": null,
   "metadata": {},
   "outputs": [],
   "source": [
    "# Train the model\n",
    "#  YOUR CODE GOES HERE\n",
    "fit_model = nn_model.fit(X_train_scaled, y_train, epochs=100)"
   ]
  },
  {
   "cell_type": "code",
   "execution_count": null,
   "metadata": {},
   "outputs": [],
   "source": [
    "# Evaluate the model using the test data\n",
    "model_loss, model_accuracy = nn_model.evaluate(X_test_scaled,y_test,verbose=2)\n",
    "print(f\"Loss: {model_loss}, Accuracy: {model_accuracy}\")"
   ]
  },
  {
   "cell_type": "code",
   "execution_count": null,
   "metadata": {},
   "outputs": [],
   "source": [
    "# Export our model to HDF5 file\n",
    "#  YOUR CODE GOES HERE\n",
    "nn_model.save('AlphabetSoupCharity.h5')"
   ]
  }
 ],
 "metadata": {
  "interpreter": {
   "hash": "84e8c7769ed2af694d7b43af1d4ce612fbcd1b5fcdc5053453a015ef42dcd532"
  },
  "kernelspec": {
   "display_name": "Python 3.8.12",
   "language": "python",
   "name": "python3"
  },
  "language_info": {
   "codemirror_mode": {
    "name": "ipython",
    "version": 3
   },
   "file_extension": ".py",
   "mimetype": "text/x-python",
   "name": "python",
   "nbconvert_exporter": "python",
   "pygments_lexer": "ipython3",
   "version": "3.8.12"
  }
 },
 "nbformat": 4,
 "nbformat_minor": 4
}
